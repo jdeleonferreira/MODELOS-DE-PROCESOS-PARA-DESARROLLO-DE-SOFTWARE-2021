{
 "cells": [
  {
   "cell_type": "markdown",
   "metadata": {},
   "source": [
    "# CLASIFICADOR BAYESIANO NAIVE - APLICANDO MODELO DE DESARROLLO EN CASCADA"
   ]
  },
  {
   "cell_type": "code",
   "execution_count": null,
   "metadata": {},
   "outputs": [],
   "source": []
  },
  {
   "cell_type": "markdown",
   "metadata": {},
   "source": [
    "# Requerimientos Funcionales\n",
    "\n",
    "- El sistema debe listar los datos de los clientes en forma de tabla con datos agrupados\n",
    "cualitativo para cada columna (Tipo de Ocupación, Mayor de edad, Volumen de Compras,\n",
    "Mayoría de elementos comprados, Campaña).\n",
    "- El sistema debe convertir los datos de un valor cualitativo a un valor cuantitativo para poder\n",
    "realizar un mapa de dato y facilitar los cálculos al momento del tratamiento de datos\n",
    "- El sistema deberá mostrar la predicción resultante dependiendo a un perfil especificado o\n",
    "de enfoque teniendo en cuenta los datos presentes en la tabla como valores de evaluación.\n",
    "\n",
    "# Requerimientos no Funcionales\n",
    "\n",
    "- El sistema debe entrenarse con una muestra mayor o igual de 7 datos\n",
    "- El sistema debe tomar una columna como punto de referencia para realizar los cálculos para\n",
    "este modelo se tomará la Columna de Campaña\n",
    "- El sistema debe implementar el algoritmo de Naive Bayes para mostrar las predicciones de\n",
    "campaña de los clientes con base a un perfil especifico equivalente al resto de los datos de\n",
    "la tabla"
   ]
  },
  {
   "cell_type": "markdown",
   "metadata": {},
   "source": [
    "![title](diagrama.png)"
   ]
  },
  {
   "cell_type": "code",
   "execution_count": null,
   "metadata": {},
   "outputs": [],
   "source": [
    "import pandas as pd"
   ]
  },
  {
   "cell_type": "code",
   "execution_count": null,
   "metadata": {},
   "outputs": [],
   "source": []
  },
  {
   "cell_type": "code",
   "execution_count": 7,
   "metadata": {},
   "outputs": [
    {
     "data": {
      "text/html": [
       "<div>\n",
       "<style scoped>\n",
       "    .dataframe tbody tr th:only-of-type {\n",
       "        vertical-align: middle;\n",
       "    }\n",
       "\n",
       "    .dataframe tbody tr th {\n",
       "        vertical-align: top;\n",
       "    }\n",
       "\n",
       "    .dataframe thead th {\n",
       "        text-align: right;\n",
       "    }\n",
       "</style>\n",
       "<table border=\"1\" class=\"dataframe\">\n",
       "  <thead>\n",
       "    <tr style=\"text-align: right;\">\n",
       "      <th></th>\n",
       "      <th>Tipo de Ocupación</th>\n",
       "      <th>Mayor a 30</th>\n",
       "      <th>Volumen de Compras</th>\n",
       "      <th>Mayoria de elementos comprados</th>\n",
       "      <th>Campaña</th>\n",
       "    </tr>\n",
       "  </thead>\n",
       "  <tbody>\n",
       "    <tr>\n",
       "      <th>0</th>\n",
       "      <td>Empleado</td>\n",
       "      <td>Si</td>\n",
       "      <td>Alto</td>\n",
       "      <td>Ferretería</td>\n",
       "      <td>Salud</td>\n",
       "    </tr>\n",
       "    <tr>\n",
       "      <th>1</th>\n",
       "      <td>Independiente</td>\n",
       "      <td>Si</td>\n",
       "      <td>Medio</td>\n",
       "      <td>Vesturario</td>\n",
       "      <td>Hogar</td>\n",
       "    </tr>\n",
       "    <tr>\n",
       "      <th>2</th>\n",
       "      <td>Independiente</td>\n",
       "      <td>No</td>\n",
       "      <td>Alto</td>\n",
       "      <td>Vesturario</td>\n",
       "      <td>Viajes</td>\n",
       "    </tr>\n",
       "    <tr>\n",
       "      <th>3</th>\n",
       "      <td>Independiente</td>\n",
       "      <td>Si</td>\n",
       "      <td>Alto</td>\n",
       "      <td>Mercado</td>\n",
       "      <td>Hogar</td>\n",
       "    </tr>\n",
       "    <tr>\n",
       "      <th>4</th>\n",
       "      <td>Empleado</td>\n",
       "      <td>Si</td>\n",
       "      <td>Bajo</td>\n",
       "      <td>Mercado</td>\n",
       "      <td>Viajes</td>\n",
       "    </tr>\n",
       "    <tr>\n",
       "      <th>5</th>\n",
       "      <td>Empleado</td>\n",
       "      <td>Si</td>\n",
       "      <td>Medio</td>\n",
       "      <td>Vesturario</td>\n",
       "      <td>Salud</td>\n",
       "    </tr>\n",
       "    <tr>\n",
       "      <th>6</th>\n",
       "      <td>Empleado</td>\n",
       "      <td>No</td>\n",
       "      <td>Alto</td>\n",
       "      <td>Vesturario</td>\n",
       "      <td>Viajes</td>\n",
       "    </tr>\n",
       "  </tbody>\n",
       "</table>\n",
       "</div>"
      ],
      "text/plain": [
       "  Tipo de Ocupación Mayor a 30 Volumen de Compras  \\\n",
       "0          Empleado         Si               Alto   \n",
       "1     Independiente         Si              Medio   \n",
       "2     Independiente         No               Alto   \n",
       "3     Independiente         Si               Alto   \n",
       "4          Empleado         Si               Bajo   \n",
       "5          Empleado         Si              Medio   \n",
       "6          Empleado         No               Alto   \n",
       "\n",
       "  Mayoria de elementos comprados Campaña  \n",
       "0                     Ferretería   Salud  \n",
       "1                     Vesturario   Hogar  \n",
       "2                     Vesturario  Viajes  \n",
       "3                        Mercado   Hogar  \n",
       "4                        Mercado  Viajes  \n",
       "5                     Vesturario   Salud  \n",
       "6                     Vesturario  Viajes  "
      ]
     },
     "execution_count": 7,
     "metadata": {},
     "output_type": "execute_result"
    }
   ],
   "source": [
    "Datos = pd.read_csv('Datos_Balegria.csv')\n",
    "Datos.head(7)"
   ]
  },
  {
   "cell_type": "code",
   "execution_count": 8,
   "metadata": {},
   "outputs": [],
   "source": [
    "features_train = Datos.iloc[0:7,0:4]\n",
    "target_train = Datos.iloc[0:7,4]\n",
    "#print(label)"
   ]
  },
  {
   "cell_type": "code",
   "execution_count": 9,
   "metadata": {},
   "outputs": [
    {
     "name": "stdout",
     "output_type": "stream",
     "text": [
      "[(0, 1, 0, 0), (1, 1, 2, 2), (1, 0, 0, 2), (1, 1, 0, 1), (0, 1, 1, 1), (0, 1, 2, 2), (0, 0, 0, 2)]\n",
      "[1 0 2 0 2 1 2]\n"
     ]
    }
   ],
   "source": [
    "# Import LabelEncoder\n",
    "from sklearn import preprocessing\n",
    "le = preprocessing.LabelEncoder()\n",
    "f0=le.fit_transform(features_train.iloc[0:7,0])\n",
    "f1=le.fit_transform(features_train.iloc[0:7,1])\n",
    "f2=le.fit_transform(features_train.iloc[0:7,2])\n",
    "f3=le.fit_transform(features_train.iloc[0:7,3])\n",
    "label=le.fit_transform(target_train)\n",
    "features=list(zip(f0,f1,f2,f3))\n",
    "print(features)\n",
    "print(label)"
   ]
  },
  {
   "cell_type": "code",
   "execution_count": 11,
   "metadata": {},
   "outputs": [
    {
     "name": "stderr",
     "output_type": "stream",
     "text": [
      "test2_ (__main__.TestMultiply) ... ok\n",
      "test3_ (__main__.TestMultiply) ... ok\n",
      "test_ (__main__.TestMultiply) ... ok\n",
      "\n",
      "----------------------------------------------------------------------\n",
      "Ran 3 tests in 0.018s\n",
      "\n",
      "OK\n"
     ]
    },
    {
     "data": {
      "text/plain": [
       "<unittest.main.TestProgram at 0x11da4ea00>"
      ]
     },
     "execution_count": 11,
     "metadata": {},
     "output_type": "execute_result"
    }
   ],
   "source": [
    "from sklearn.naive_bayes import GaussianNB\n",
    "def baye(num1,num2,num3,num4):\n",
    "    model1 = GaussianNB()\n",
    "    model1.fit(features,label)\n",
    "    Predicted = model1.predict([[num1,num2,num3,num4]])\n",
    "    return Predicted\n",
    "    \n",
    "\n",
    "import unittest\n",
    "class TestMultiply(unittest.TestCase):\n",
    "    # Create the unit test\n",
    "    def test_(self):\n",
    "        # Test if 2 equals the output of baye(1,0,0,2)\n",
    "        self.assertEqual(2, baye(1,0,0,2))\n",
    "    def test2_(self):\n",
    "        # Test if 2 equals the output of baye(1,0,0,2)\n",
    "        self.assertEqual(2, baye(0,0,0,2))   \n",
    "    def test3_(self):\n",
    "        # Test if 2 equals the output of baye(1,0,0,2)\n",
    "        self.assertEqual(2, baye(1,2,0,2))      \n",
    "\n",
    "unittest.main(argv=['ignored', '-v'], exit=False)"
   ]
  },
  {
   "cell_type": "markdown",
   "metadata": {},
   "source": []
  }
 ],
 "metadata": {
  "kernelspec": {
   "display_name": "Python 3",
   "language": "python",
   "name": "python3"
  },
  "language_info": {
   "codemirror_mode": {
    "name": "ipython",
    "version": 3
   },
   "file_extension": ".py",
   "mimetype": "text/x-python",
   "name": "python",
   "nbconvert_exporter": "python",
   "pygments_lexer": "ipython3",
   "version": "3.8.5"
  }
 },
 "nbformat": 4,
 "nbformat_minor": 2
}
